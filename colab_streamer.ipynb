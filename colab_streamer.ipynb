# ================== 安装依赖 ==================
!pip install flask pyngrok requests --quiet

# ================== 引入模块 ==================
import subprocess, os, signal, time, threading, requests
from datetime import datetime
from flask import Flask, send_from_directory, request, render_template_string
from pyngrok import ngrok

# ================== 配置区域 ==================
REMOTE_TXT_URL = "https://kong.pp.ua/a.txt"  # 👈 修改为你的远程链接
NGROK_TOKEN = "2vztoTvKNpetesaYNhaWUFM9bUt_5vZPxULruLkB1NVACT7UA"
INITIAL_URL = "https://test-streams.mux.dev/x36xhzz/x36xhzz.m3u8"  # 默认备用源

PID_FILE = "ffmpeg.pid"
LAST_URL_FILE = "last_url.txt"
HLS_OUTPUT = "stream/stream.m3u8"
FFMPEG_LOG = "ffmpeg_output.log"

os.makedirs("stream", exist_ok=True)

# ================== 日志函数 ==================
def log(msg):
    print(f"[{datetime.now().strftime('%H:%M:%S')}] {msg}")

# ================== 工具函数 ==================
def get_url_from_remote():
    try:
        r = requests.get(REMOTE_TXT_URL, timeout=5)
        if r.ok:
            return r.text.strip()
    except Exception as e:
        log(f"读取远程失败：{e}")
    return INITIAL_URL

def get_last_url():
    if os.path.exists(LAST_URL_FILE):
        with open(LAST_URL_FILE) as f:
            return f.read().strip()
    return ""

def save_current_url(url):
    with open(LAST_URL_FILE, 'w') as f:
        f.write(url)

def get_ffmpeg_pid():
    if os.path.exists(PID_FILE):
        with open(PID_FILE) as f:
            return int(f.read().strip())
    return None

def kill_ffmpeg(pid):
    try:
        os.kill(pid, signal.SIGKILL)
        log(f"结束 FFmpeg 进程 PID={pid}")
    except:
        log(f"无法终止进程 PID={pid}")
    if os.path.exists(PID_FILE):
        os.remove(PID_FILE)

def start_ffmpeg(url):
    cmd = [
        "ffmpeg",
        "-user_agent", "Mozilla/5.0",
        "-i", url,
        "-c", "copy",
        "-sn",
        "-f", "hls",
        "-hls_time", "5",
        "-hls_list_size", "5",
        "-hls_flags", "delete_segments",
        HLS_OUTPUT
    ]
    with open(FFMPEG_LOG, 'a') as out:
        process = subprocess.Popen(cmd, stdout=out, stderr=out)
    with open(PID_FILE, 'w') as f:
        f.write(str(process.pid))
    log(f"启动 FFmpeg，PID={process.pid}，源：{url}")
    return process.pid

# ================== 主拉流循环 ==================
def main_loop():
    while True:
        url = get_url_from_remote()
        last_url = get_last_url()
        pid = get_ffmpeg_pid()

        if not url or not url.startswith("http"):
            log(f"无效地址：{url}")
            time.sleep(30)
            continue

        if url == last_url:
            if pid:
                try:
                    os.kill(pid, 0)
                    log("✅ FFmpeg 正在运行")
                    time.sleep(30)
                    continue
                except:
                    log("进程挂了，准备重启")
            else:
                log("无进程记录，准备启动")
        else:
            log("检测到源变化，准备重启")

        if pid:
            kill_ffmpeg(pid)

        new_pid = start_ffmpeg(url)
        save_current_url(url)
        time.sleep(10)

# ================== Flask + Ngrok ==================
app = Flask(__name__)

@app.route('/')
def index():
    return render_template_string('''
        <h2>📺 播放链接</h2>
        <a href="/stream/stream.m3u8" target="_blank">点此打开播放地址</a><br><br>
        当前拉流源由远程 a.txt 决定，修改 VPS 上的文件内容即可自动切换频道。
    ''')

@app.route('/stream/<path:filename>')
def serve_stream(filename):
    return send_from_directory("stream", filename)

def run_flask():
    app.run(port=8000)

# ================== 启动 ==================
ngrok.set_auth_token(NGROK_TOKEN)
public_url = ngrok.connect(8000)
log(f"控制台地址：{public_url}/")
log(f"直播地址：{public_url}/stream/stream.m3u8")

threading.Thread(target=run_flask).start()
threading.Thread(target=main_loop).start()
